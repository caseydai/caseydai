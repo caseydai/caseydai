{
 "cells": [
  {
   "cell_type": "code",
   "execution_count": 2,
   "id": "ff6ebb55",
   "metadata": {},
   "outputs": [
    {
     "name": "stdout",
     "output_type": "stream",
     "text": [
      "Requirement already satisfied: ipykernel in ./lib/python3.13/site-packages (6.29.5)\n",
      "Requirement already satisfied: appnope in ./lib/python3.13/site-packages (from ipykernel) (0.1.4)\n",
      "Requirement already satisfied: comm>=0.1.1 in ./lib/python3.13/site-packages (from ipykernel) (0.2.2)\n",
      "Requirement already satisfied: debugpy>=1.6.5 in ./lib/python3.13/site-packages (from ipykernel) (1.8.12)\n",
      "Requirement already satisfied: ipython>=7.23.1 in ./lib/python3.13/site-packages (from ipykernel) (9.0.0)\n",
      "Requirement already satisfied: jupyter-client>=6.1.12 in ./lib/python3.13/site-packages (from ipykernel) (8.6.3)\n",
      "Requirement already satisfied: jupyter-core!=5.0.*,>=4.12 in ./lib/python3.13/site-packages (from ipykernel) (5.7.2)\n",
      "Requirement already satisfied: matplotlib-inline>=0.1 in ./lib/python3.13/site-packages (from ipykernel) (0.1.7)\n",
      "Requirement already satisfied: nest-asyncio in ./lib/python3.13/site-packages (from ipykernel) (1.6.0)\n",
      "Requirement already satisfied: packaging in ./lib/python3.13/site-packages (from ipykernel) (24.2)\n",
      "Requirement already satisfied: psutil in ./lib/python3.13/site-packages (from ipykernel) (7.0.0)\n",
      "Requirement already satisfied: pyzmq>=24 in ./lib/python3.13/site-packages (from ipykernel) (26.2.1)\n",
      "Requirement already satisfied: tornado>=6.1 in ./lib/python3.13/site-packages (from ipykernel) (6.4.2)\n",
      "Requirement already satisfied: traitlets>=5.4.0 in ./lib/python3.13/site-packages (from ipykernel) (5.14.3)\n",
      "Requirement already satisfied: decorator in ./lib/python3.13/site-packages (from ipython>=7.23.1->ipykernel) (5.2.1)\n",
      "Requirement already satisfied: ipython-pygments-lexers in ./lib/python3.13/site-packages (from ipython>=7.23.1->ipykernel) (1.1.1)\n",
      "Requirement already satisfied: jedi>=0.16 in ./lib/python3.13/site-packages (from ipython>=7.23.1->ipykernel) (0.19.2)\n",
      "Requirement already satisfied: pexpect>4.3 in ./lib/python3.13/site-packages (from ipython>=7.23.1->ipykernel) (4.9.0)\n",
      "Requirement already satisfied: prompt_toolkit<3.1.0,>=3.0.41 in ./lib/python3.13/site-packages (from ipython>=7.23.1->ipykernel) (3.0.50)\n",
      "Requirement already satisfied: pygments>=2.4.0 in ./lib/python3.13/site-packages (from ipython>=7.23.1->ipykernel) (2.19.1)\n",
      "Requirement already satisfied: stack_data in ./lib/python3.13/site-packages (from ipython>=7.23.1->ipykernel) (0.6.3)\n",
      "Requirement already satisfied: python-dateutil>=2.8.2 in ./lib/python3.13/site-packages (from jupyter-client>=6.1.12->ipykernel) (2.9.0.post0)\n",
      "Requirement already satisfied: platformdirs>=2.5 in ./lib/python3.13/site-packages (from jupyter-core!=5.0.*,>=4.12->ipykernel) (4.3.6)\n",
      "Requirement already satisfied: parso<0.9.0,>=0.8.4 in ./lib/python3.13/site-packages (from jedi>=0.16->ipython>=7.23.1->ipykernel) (0.8.4)\n",
      "Requirement already satisfied: ptyprocess>=0.5 in ./lib/python3.13/site-packages (from pexpect>4.3->ipython>=7.23.1->ipykernel) (0.7.0)\n",
      "Requirement already satisfied: wcwidth in ./lib/python3.13/site-packages (from prompt_toolkit<3.1.0,>=3.0.41->ipython>=7.23.1->ipykernel) (0.2.13)\n",
      "Requirement already satisfied: six>=1.5 in ./lib/python3.13/site-packages (from python-dateutil>=2.8.2->jupyter-client>=6.1.12->ipykernel) (1.17.0)\n",
      "Requirement already satisfied: executing>=1.2.0 in ./lib/python3.13/site-packages (from stack_data->ipython>=7.23.1->ipykernel) (2.2.0)\n",
      "Requirement already satisfied: asttokens>=2.1.0 in ./lib/python3.13/site-packages (from stack_data->ipython>=7.23.1->ipykernel) (3.0.0)\n",
      "Requirement already satisfied: pure-eval in ./lib/python3.13/site-packages (from stack_data->ipython>=7.23.1->ipykernel) (0.2.3)\n"
     ]
    }
   ],
   "source": [
    "!pip install --upgrade ipykernel"
   ]
  },
  {
   "cell_type": "code",
   "execution_count": 3,
   "id": "fa2f10df-9c9a-404d-bba6-6d189bad80b6",
   "metadata": {},
   "outputs": [],
   "source": [
    "import ee"
   ]
  },
  {
   "cell_type": "code",
   "execution_count": 4,
   "id": "205e9b4a",
   "metadata": {},
   "outputs": [
    {
     "data": {
      "text/plain": [
       "True"
      ]
     },
     "execution_count": 4,
     "metadata": {},
     "output_type": "execute_result"
    }
   ],
   "source": [
    "ee.Authenticate()"
   ]
  },
  {
   "cell_type": "code",
   "execution_count": 5,
   "id": "2c50818b",
   "metadata": {},
   "outputs": [],
   "source": [
    "ee.Initialize()"
   ]
  },
  {
   "cell_type": "code",
   "execution_count": 6,
   "id": "7edae6a8-a774-4a32-9e13-b6403e3fd772",
   "metadata": {},
   "outputs": [
    {
     "name": "stdout",
     "output_type": "stream",
     "text": [
      "pip 25.0.1 from /Users/caseydai/Desktop/GHP299/Nick_Codes/myenvironment/lib/python3.13/site-packages/pip (python 3.13)\n"
     ]
    }
   ],
   "source": [
    "!pip --version"
   ]
  },
  {
   "cell_type": "code",
   "execution_count": 7,
   "id": "edcbd3a3",
   "metadata": {},
   "outputs": [
    {
     "name": "stdout",
     "output_type": "stream",
     "text": [
      "Requirement already satisfied: pandas in ./lib/python3.13/site-packages (2.2.3)\n",
      "Requirement already satisfied: numpy>=1.26.0 in ./lib/python3.13/site-packages (from pandas) (2.2.3)\n",
      "Requirement already satisfied: python-dateutil>=2.8.2 in ./lib/python3.13/site-packages (from pandas) (2.9.0.post0)\n",
      "Requirement already satisfied: pytz>=2020.1 in ./lib/python3.13/site-packages (from pandas) (2025.1)\n",
      "Requirement already satisfied: tzdata>=2022.7 in ./lib/python3.13/site-packages (from pandas) (2025.1)\n",
      "Requirement already satisfied: six>=1.5 in ./lib/python3.13/site-packages (from python-dateutil>=2.8.2->pandas) (1.17.0)\n",
      "Requirement already satisfied: gee_subset in ./lib/python3.13/site-packages (1.1.2)\n",
      "Requirement already satisfied: geopandas in ./lib/python3.13/site-packages (1.0.1)\n",
      "Requirement already satisfied: numpy>=1.22 in ./lib/python3.13/site-packages (from geopandas) (2.2.3)\n",
      "Requirement already satisfied: pyogrio>=0.7.2 in ./lib/python3.13/site-packages (from geopandas) (0.10.0)\n",
      "Requirement already satisfied: packaging in ./lib/python3.13/site-packages (from geopandas) (24.2)\n",
      "Requirement already satisfied: pandas>=1.4.0 in ./lib/python3.13/site-packages (from geopandas) (2.2.3)\n",
      "Requirement already satisfied: pyproj>=3.3.0 in ./lib/python3.13/site-packages (from geopandas) (3.7.1)\n",
      "Requirement already satisfied: shapely>=2.0.0 in ./lib/python3.13/site-packages (from geopandas) (2.0.7)\n",
      "Requirement already satisfied: python-dateutil>=2.8.2 in ./lib/python3.13/site-packages (from pandas>=1.4.0->geopandas) (2.9.0.post0)\n",
      "Requirement already satisfied: pytz>=2020.1 in ./lib/python3.13/site-packages (from pandas>=1.4.0->geopandas) (2025.1)\n",
      "Requirement already satisfied: tzdata>=2022.7 in ./lib/python3.13/site-packages (from pandas>=1.4.0->geopandas) (2025.1)\n",
      "Requirement already satisfied: certifi in ./lib/python3.13/site-packages (from pyogrio>=0.7.2->geopandas) (2025.1.31)\n",
      "Requirement already satisfied: six>=1.5 in ./lib/python3.13/site-packages (from python-dateutil>=2.8.2->pandas>=1.4.0->geopandas) (1.17.0)\n",
      "Requirement already satisfied: geemap in ./lib/python3.13/site-packages (0.35.2)\n",
      "Requirement already satisfied: bqplot in ./lib/python3.13/site-packages (from geemap) (0.12.44)\n",
      "Requirement already satisfied: colour in ./lib/python3.13/site-packages (from geemap) (0.1.5)\n",
      "Requirement already satisfied: earthengine-api>=1.0.0 in ./lib/python3.13/site-packages (from geemap) (1.5.4)\n",
      "Requirement already satisfied: eerepr>=0.1.0 in ./lib/python3.13/site-packages (from geemap) (0.1.1)\n",
      "Requirement already satisfied: folium>=0.17.0 in ./lib/python3.13/site-packages (from geemap) (0.19.5)\n",
      "Requirement already satisfied: geocoder in ./lib/python3.13/site-packages (from geemap) (1.38.1)\n",
      "Requirement already satisfied: ipyevents in ./lib/python3.13/site-packages (from geemap) (2.0.2)\n",
      "Requirement already satisfied: ipyfilechooser>=0.6.0 in ./lib/python3.13/site-packages (from geemap) (0.6.0)\n",
      "Requirement already satisfied: ipyleaflet>=0.19.2 in ./lib/python3.13/site-packages (from geemap) (0.19.2)\n",
      "Requirement already satisfied: ipytree in ./lib/python3.13/site-packages (from geemap) (0.2.2)\n",
      "Requirement already satisfied: matplotlib in ./lib/python3.13/site-packages (from geemap) (3.10.1)\n",
      "Requirement already satisfied: numpy in ./lib/python3.13/site-packages (from geemap) (2.2.3)\n",
      "Requirement already satisfied: pandas in ./lib/python3.13/site-packages (from geemap) (2.2.3)\n",
      "Requirement already satisfied: plotly in ./lib/python3.13/site-packages (from geemap) (6.0.0)\n",
      "Requirement already satisfied: pyperclip in ./lib/python3.13/site-packages (from geemap) (1.9.0)\n",
      "Requirement already satisfied: pyshp>=2.3.1 in ./lib/python3.13/site-packages (from geemap) (2.3.1)\n",
      "Requirement already satisfied: python-box in ./lib/python3.13/site-packages (from geemap) (7.3.2)\n",
      "Requirement already satisfied: scooby in ./lib/python3.13/site-packages (from geemap) (0.10.0)\n",
      "Requirement already satisfied: google-cloud-storage in ./lib/python3.13/site-packages (from earthengine-api>=1.0.0->geemap) (3.1.0)\n",
      "Requirement already satisfied: google-api-python-client>=1.12.1 in ./lib/python3.13/site-packages (from earthengine-api>=1.0.0->geemap) (2.162.0)\n",
      "Requirement already satisfied: google-auth>=1.4.1 in ./lib/python3.13/site-packages (from earthengine-api>=1.0.0->geemap) (2.38.0)\n",
      "Requirement already satisfied: google-auth-httplib2>=0.0.3 in ./lib/python3.13/site-packages (from earthengine-api>=1.0.0->geemap) (0.2.0)\n",
      "Requirement already satisfied: httplib2<1dev,>=0.9.2 in ./lib/python3.13/site-packages (from earthengine-api>=1.0.0->geemap) (0.22.0)\n",
      "Requirement already satisfied: requests in ./lib/python3.13/site-packages (from earthengine-api>=1.0.0->geemap) (2.32.3)\n",
      "Requirement already satisfied: branca>=0.6.0 in ./lib/python3.13/site-packages (from folium>=0.17.0->geemap) (0.8.1)\n",
      "Requirement already satisfied: jinja2>=2.9 in ./lib/python3.13/site-packages (from folium>=0.17.0->geemap) (3.1.5)\n",
      "Requirement already satisfied: xyzservices in ./lib/python3.13/site-packages (from folium>=0.17.0->geemap) (2025.1.0)\n",
      "Requirement already satisfied: ipywidgets in ./lib/python3.13/site-packages (from ipyfilechooser>=0.6.0->geemap) (8.1.5)\n",
      "Requirement already satisfied: jupyter-leaflet<0.20,>=0.19 in ./lib/python3.13/site-packages (from ipyleaflet>=0.19.2->geemap) (0.19.2)\n",
      "Requirement already satisfied: traittypes<3,>=0.2.1 in ./lib/python3.13/site-packages (from ipyleaflet>=0.19.2->geemap) (0.2.1)\n",
      "Requirement already satisfied: traitlets>=4.3.0 in ./lib/python3.13/site-packages (from bqplot->geemap) (5.14.3)\n",
      "Requirement already satisfied: python-dateutil>=2.8.2 in ./lib/python3.13/site-packages (from pandas->geemap) (2.9.0.post0)\n",
      "Requirement already satisfied: pytz>=2020.1 in ./lib/python3.13/site-packages (from pandas->geemap) (2025.1)\n",
      "Requirement already satisfied: tzdata>=2022.7 in ./lib/python3.13/site-packages (from pandas->geemap) (2025.1)\n",
      "Requirement already satisfied: click in ./lib/python3.13/site-packages (from geocoder->geemap) (8.1.8)\n",
      "Requirement already satisfied: future in ./lib/python3.13/site-packages (from geocoder->geemap) (1.0.0)\n",
      "Requirement already satisfied: ratelim in ./lib/python3.13/site-packages (from geocoder->geemap) (0.1.6)\n",
      "Requirement already satisfied: six in ./lib/python3.13/site-packages (from geocoder->geemap) (1.17.0)\n",
      "Requirement already satisfied: contourpy>=1.0.1 in ./lib/python3.13/site-packages (from matplotlib->geemap) (1.3.1)\n",
      "Requirement already satisfied: cycler>=0.10 in ./lib/python3.13/site-packages (from matplotlib->geemap) (0.12.1)\n",
      "Requirement already satisfied: fonttools>=4.22.0 in ./lib/python3.13/site-packages (from matplotlib->geemap) (4.56.0)\n",
      "Requirement already satisfied: kiwisolver>=1.3.1 in ./lib/python3.13/site-packages (from matplotlib->geemap) (1.4.8)\n",
      "Requirement already satisfied: packaging>=20.0 in ./lib/python3.13/site-packages (from matplotlib->geemap) (24.2)\n",
      "Requirement already satisfied: pillow>=8 in ./lib/python3.13/site-packages (from matplotlib->geemap) (11.1.0)\n",
      "Requirement already satisfied: pyparsing>=2.3.1 in ./lib/python3.13/site-packages (from matplotlib->geemap) (3.2.1)\n",
      "Requirement already satisfied: narwhals>=1.15.1 in ./lib/python3.13/site-packages (from plotly->geemap) (1.28.0)\n",
      "Requirement already satisfied: google-api-core!=2.0.*,!=2.1.*,!=2.2.*,!=2.3.0,<3.0.0.dev0,>=1.31.5 in ./lib/python3.13/site-packages (from google-api-python-client>=1.12.1->earthengine-api>=1.0.0->geemap) (2.24.1)\n",
      "Requirement already satisfied: uritemplate<5,>=3.0.1 in ./lib/python3.13/site-packages (from google-api-python-client>=1.12.1->earthengine-api>=1.0.0->geemap) (4.1.1)\n",
      "Requirement already satisfied: cachetools<6.0,>=2.0.0 in ./lib/python3.13/site-packages (from google-auth>=1.4.1->earthengine-api>=1.0.0->geemap) (5.5.2)\n",
      "Requirement already satisfied: pyasn1-modules>=0.2.1 in ./lib/python3.13/site-packages (from google-auth>=1.4.1->earthengine-api>=1.0.0->geemap) (0.4.1)\n",
      "Requirement already satisfied: rsa<5,>=3.1.4 in ./lib/python3.13/site-packages (from google-auth>=1.4.1->earthengine-api>=1.0.0->geemap) (4.9)\n",
      "Requirement already satisfied: comm>=0.1.3 in ./lib/python3.13/site-packages (from ipywidgets->ipyfilechooser>=0.6.0->geemap) (0.2.2)\n",
      "Requirement already satisfied: ipython>=6.1.0 in ./lib/python3.13/site-packages (from ipywidgets->ipyfilechooser>=0.6.0->geemap) (9.0.0)\n",
      "Requirement already satisfied: widgetsnbextension~=4.0.12 in ./lib/python3.13/site-packages (from ipywidgets->ipyfilechooser>=0.6.0->geemap) (4.0.13)\n",
      "Requirement already satisfied: jupyterlab-widgets~=3.0.12 in ./lib/python3.13/site-packages (from ipywidgets->ipyfilechooser>=0.6.0->geemap) (3.0.13)\n",
      "Requirement already satisfied: MarkupSafe>=2.0 in ./lib/python3.13/site-packages (from jinja2>=2.9->folium>=0.17.0->geemap) (3.0.2)\n",
      "Requirement already satisfied: google-cloud-core<3.0dev,>=2.4.2 in ./lib/python3.13/site-packages (from google-cloud-storage->earthengine-api>=1.0.0->geemap) (2.4.2)\n",
      "Requirement already satisfied: google-resumable-media>=2.7.2 in ./lib/python3.13/site-packages (from google-cloud-storage->earthengine-api>=1.0.0->geemap) (2.7.2)\n",
      "Requirement already satisfied: google-crc32c<2.0dev,>=1.0 in ./lib/python3.13/site-packages (from google-cloud-storage->earthengine-api>=1.0.0->geemap) (1.6.0)\n",
      "Requirement already satisfied: charset-normalizer<4,>=2 in ./lib/python3.13/site-packages (from requests->earthengine-api>=1.0.0->geemap) (3.4.1)\n",
      "Requirement already satisfied: idna<4,>=2.5 in ./lib/python3.13/site-packages (from requests->earthengine-api>=1.0.0->geemap) (3.10)\n",
      "Requirement already satisfied: urllib3<3,>=1.21.1 in ./lib/python3.13/site-packages (from requests->earthengine-api>=1.0.0->geemap) (2.3.0)\n",
      "Requirement already satisfied: certifi>=2017.4.17 in ./lib/python3.13/site-packages (from requests->earthengine-api>=1.0.0->geemap) (2025.1.31)\n",
      "Requirement already satisfied: decorator in ./lib/python3.13/site-packages (from ratelim->geocoder->geemap) (5.2.1)\n",
      "Requirement already satisfied: googleapis-common-protos<2.0.dev0,>=1.56.2 in ./lib/python3.13/site-packages (from google-api-core!=2.0.*,!=2.1.*,!=2.2.*,!=2.3.0,<3.0.0.dev0,>=1.31.5->google-api-python-client>=1.12.1->earthengine-api>=1.0.0->geemap) (1.68.0)\n",
      "Requirement already satisfied: protobuf!=3.20.0,!=3.20.1,!=4.21.0,!=4.21.1,!=4.21.2,!=4.21.3,!=4.21.4,!=4.21.5,<6.0.0.dev0,>=3.19.5 in ./lib/python3.13/site-packages (from google-api-core!=2.0.*,!=2.1.*,!=2.2.*,!=2.3.0,<3.0.0.dev0,>=1.31.5->google-api-python-client>=1.12.1->earthengine-api>=1.0.0->geemap) (5.29.3)\n",
      "Requirement already satisfied: proto-plus<2.0.0dev,>=1.22.3 in ./lib/python3.13/site-packages (from google-api-core!=2.0.*,!=2.1.*,!=2.2.*,!=2.3.0,<3.0.0.dev0,>=1.31.5->google-api-python-client>=1.12.1->earthengine-api>=1.0.0->geemap) (1.26.0)\n",
      "Requirement already satisfied: ipython-pygments-lexers in ./lib/python3.13/site-packages (from ipython>=6.1.0->ipywidgets->ipyfilechooser>=0.6.0->geemap) (1.1.1)\n",
      "Requirement already satisfied: jedi>=0.16 in ./lib/python3.13/site-packages (from ipython>=6.1.0->ipywidgets->ipyfilechooser>=0.6.0->geemap) (0.19.2)\n",
      "Requirement already satisfied: matplotlib-inline in ./lib/python3.13/site-packages (from ipython>=6.1.0->ipywidgets->ipyfilechooser>=0.6.0->geemap) (0.1.7)\n",
      "Requirement already satisfied: pexpect>4.3 in ./lib/python3.13/site-packages (from ipython>=6.1.0->ipywidgets->ipyfilechooser>=0.6.0->geemap) (4.9.0)\n",
      "Requirement already satisfied: prompt_toolkit<3.1.0,>=3.0.41 in ./lib/python3.13/site-packages (from ipython>=6.1.0->ipywidgets->ipyfilechooser>=0.6.0->geemap) (3.0.50)\n",
      "Requirement already satisfied: pygments>=2.4.0 in ./lib/python3.13/site-packages (from ipython>=6.1.0->ipywidgets->ipyfilechooser>=0.6.0->geemap) (2.19.1)\n",
      "Requirement already satisfied: stack_data in ./lib/python3.13/site-packages (from ipython>=6.1.0->ipywidgets->ipyfilechooser>=0.6.0->geemap) (0.6.3)\n",
      "Requirement already satisfied: pyasn1<0.7.0,>=0.4.6 in ./lib/python3.13/site-packages (from pyasn1-modules>=0.2.1->google-auth>=1.4.1->earthengine-api>=1.0.0->geemap) (0.6.1)\n",
      "Requirement already satisfied: parso<0.9.0,>=0.8.4 in ./lib/python3.13/site-packages (from jedi>=0.16->ipython>=6.1.0->ipywidgets->ipyfilechooser>=0.6.0->geemap) (0.8.4)\n",
      "Requirement already satisfied: ptyprocess>=0.5 in ./lib/python3.13/site-packages (from pexpect>4.3->ipython>=6.1.0->ipywidgets->ipyfilechooser>=0.6.0->geemap) (0.7.0)\n",
      "Requirement already satisfied: wcwidth in ./lib/python3.13/site-packages (from prompt_toolkit<3.1.0,>=3.0.41->ipython>=6.1.0->ipywidgets->ipyfilechooser>=0.6.0->geemap) (0.2.13)\n",
      "Requirement already satisfied: executing>=1.2.0 in ./lib/python3.13/site-packages (from stack_data->ipython>=6.1.0->ipywidgets->ipyfilechooser>=0.6.0->geemap) (2.2.0)\n",
      "Requirement already satisfied: asttokens>=2.1.0 in ./lib/python3.13/site-packages (from stack_data->ipython>=6.1.0->ipywidgets->ipyfilechooser>=0.6.0->geemap) (3.0.0)\n",
      "Requirement already satisfied: pure-eval in ./lib/python3.13/site-packages (from stack_data->ipython>=6.1.0->ipywidgets->ipyfilechooser>=0.6.0->geemap) (0.2.3)\n"
     ]
    }
   ],
   "source": [
    "import sys\n",
    "sys.path.append('/Users/caseydai/Desktop/GHP299/Nick_Codes/myenvironment/lib/python3.13/site-packages')\n",
    "\n",
    "import os, re\n",
    "!pip install pandas\n",
    "import pandas as pd\n",
    "!pip install gee_subset\n",
    "from gee_subset import gee_subset\n",
    "!pip install geopandas\n",
    "import geopandas as gpd\n",
    "!pip install geemap\n",
    "import geemap\n",
    "from datetime import datetime, timezone"
   ]
  },
  {
   "cell_type": "code",
   "execution_count": 8,
   "id": "cac16d32",
   "metadata": {},
   "outputs": [
    {
     "data": {
      "text/html": [
       "\n",
       "            <style>\n",
       "                .geemap-dark {\n",
       "                    --jp-widgets-color: white;\n",
       "                    --jp-widgets-label-color: white;\n",
       "                    --jp-ui-font-color1: white;\n",
       "                    --jp-layout-color2: #454545;\n",
       "                    background-color: #383838;\n",
       "                }\n",
       "\n",
       "                .geemap-dark .jupyter-button {\n",
       "                    --jp-layout-color3: #383838;\n",
       "                }\n",
       "\n",
       "                .geemap-colab {\n",
       "                    background-color: var(--colab-primary-surface-color, white);\n",
       "                }\n",
       "\n",
       "                .geemap-colab .jupyter-button {\n",
       "                    --jp-layout-color3: var(--colab-primary-surface-color, white);\n",
       "                }\n",
       "            </style>\n",
       "            "
      ],
      "text/plain": [
       "<IPython.core.display.HTML object>"
      ]
     },
     "metadata": {},
     "output_type": "display_data"
    }
   ],
   "source": [
    "fc = ee.FeatureCollection('projects/ee-rvmscdai/assets/BAIRROS_NOISLAS')"
   ]
  },
  {
   "cell_type": "code",
   "execution_count": 774,
   "id": "8c8c882a",
   "metadata": {},
   "outputs": [
    {
     "data": {
      "text/html": [
       "\n",
       "            <style>\n",
       "                .geemap-dark {\n",
       "                    --jp-widgets-color: white;\n",
       "                    --jp-widgets-label-color: white;\n",
       "                    --jp-ui-font-color1: white;\n",
       "                    --jp-layout-color2: #454545;\n",
       "                    background-color: #383838;\n",
       "                }\n",
       "\n",
       "                .geemap-dark .jupyter-button {\n",
       "                    --jp-layout-color3: #383838;\n",
       "                }\n",
       "\n",
       "                .geemap-colab {\n",
       "                    background-color: var(--colab-primary-surface-color, white);\n",
       "                }\n",
       "\n",
       "                .geemap-colab .jupyter-button {\n",
       "                    --jp-layout-color3: var(--colab-primary-surface-color, white);\n",
       "                }\n",
       "            </style>\n",
       "            "
      ],
      "text/plain": [
       "<IPython.core.display.HTML object>"
      ]
     },
     "metadata": {},
     "output_type": "display_data"
    }
   ],
   "source": [
    "#export in chunks, every 2 months  \n",
    "start_date = '2024-10-29'\n",
    "end_date = '2024-12-29'\n",
    "variables = ['temperature_2m_min','temperature_2m_max','total_precipitation_sum','temperature_2m']"
   ]
  },
  {
   "cell_type": "code",
   "execution_count": 775,
   "id": "de407cae",
   "metadata": {},
   "outputs": [
    {
     "data": {
      "text/html": [
       "\n",
       "            <style>\n",
       "                .geemap-dark {\n",
       "                    --jp-widgets-color: white;\n",
       "                    --jp-widgets-label-color: white;\n",
       "                    --jp-ui-font-color1: white;\n",
       "                    --jp-layout-color2: #454545;\n",
       "                    background-color: #383838;\n",
       "                }\n",
       "\n",
       "                .geemap-dark .jupyter-button {\n",
       "                    --jp-layout-color3: #383838;\n",
       "                }\n",
       "\n",
       "                .geemap-colab {\n",
       "                    background-color: var(--colab-primary-surface-color, white);\n",
       "                }\n",
       "\n",
       "                .geemap-colab .jupyter-button {\n",
       "                    --jp-layout-color3: var(--colab-primary-surface-color, white);\n",
       "                }\n",
       "            </style>\n",
       "            "
      ],
      "text/plain": [
       "<IPython.core.display.HTML object>"
      ]
     },
     "metadata": {},
     "output_type": "display_data"
    }
   ],
   "source": [
    "# Initialize lists to store extracted values\n",
    "dates = []\n",
    "bairros = []\n",
    "variable_values = {variable: [] for variable in variables}"
   ]
  },
  {
   "cell_type": "code",
   "execution_count": 776,
   "id": "0fe55bbd",
   "metadata": {},
   "outputs": [
    {
     "data": {
      "text/html": [
       "\n",
       "            <style>\n",
       "                .geemap-dark {\n",
       "                    --jp-widgets-color: white;\n",
       "                    --jp-widgets-label-color: white;\n",
       "                    --jp-ui-font-color1: white;\n",
       "                    --jp-layout-color2: #454545;\n",
       "                    background-color: #383838;\n",
       "                }\n",
       "\n",
       "                .geemap-dark .jupyter-button {\n",
       "                    --jp-layout-color3: #383838;\n",
       "                }\n",
       "\n",
       "                .geemap-colab {\n",
       "                    background-color: var(--colab-primary-surface-color, white);\n",
       "                }\n",
       "\n",
       "                .geemap-colab .jupyter-button {\n",
       "                    --jp-layout-color3: var(--colab-primary-surface-color, white);\n",
       "                }\n",
       "            </style>\n",
       "            "
      ],
      "text/plain": [
       "<IPython.core.display.HTML object>"
      ]
     },
     "metadata": {},
     "output_type": "display_data"
    }
   ],
   "source": [
    "# Function to calculate the weighted average by area of overlapping pixels for each date\n",
    "def calculate_weighted_average(image, feature, variable):\n",
    "    # Calculate the area of the pixels\n",
    "    pixel_area = ee.Image.pixelArea()\n",
    "\n",
    "    # Calculate the area-weighted sum of the variable\n",
    "    weighted_sum = image.multiply(pixel_area).reduceRegion(\n",
    "        reducer=ee.Reducer.sum(),\n",
    "        geometry=feature.geometry(),\n",
    "        scale=10000,\n",
    "        maxPixels=1e9\n",
    "    )\n",
    "\n",
    "    # Calculate the total area of the overlapping pixels\n",
    "    total_area = pixel_area.reduceRegion(\n",
    "        reducer=ee.Reducer.sum(),\n",
    "        geometry=feature.geometry(),\n",
    "        scale=10000,\n",
    "        maxPixels=1e9\n",
    "    )\n",
    "\n",
    "    # Calculate the weighted average\n",
    "    weighted_avg = ee.Number(weighted_sum.get(variable)).divide(total_area.get('area'))\n",
    "\n",
    "    return image.set('weighted_avg', weighted_avg)\n",
    "\n",
    "# Function to process each variable for a given feature\n",
    "def process_variable(variable, feature):\n",
    "    # Load ERA5 data for the variable\n",
    "    variable_data = ee.ImageCollection('ECMWF/ERA5_LAND/DAILY_AGGR') \\\n",
    "        .filterDate(start_date, end_date) \\\n",
    "        .select(variable)\n",
    "\n",
    "    # Clip the raster to the polygon and calculate the weighted average\n",
    "    def map_over_images(image):\n",
    "        return calculate_weighted_average(image, feature, variable)\n",
    "\n",
    "    weighted_data = variable_data.map(map_over_images)\n",
    "\n",
    "    # Extract the values and dates\n",
    "    dates_ = weighted_data.aggregate_array('system:time_start')\n",
    "    values_ = weighted_data.aggregate_array('weighted_avg')\n",
    "\n",
    "    return ee.Feature(None, {\n",
    "        'bairro': feature.get('CodBairro'),\n",
    "        'dates': dates_,\n",
    "        'values': values_,\n",
    "        'variable': variable\n",
    "    })\n",
    "\n",
    "# Function to extract data for each polygon\n",
    "def extract_data(feature):\n",
    "    return ee.FeatureCollection([process_variable(variable, feature) for variable in variables])\n"
   ]
  },
  {
   "cell_type": "code",
   "execution_count": 777,
   "id": "4435c4ef",
   "metadata": {},
   "outputs": [
    {
     "data": {
      "text/html": [
       "\n",
       "            <style>\n",
       "                .geemap-dark {\n",
       "                    --jp-widgets-color: white;\n",
       "                    --jp-widgets-label-color: white;\n",
       "                    --jp-ui-font-color1: white;\n",
       "                    --jp-layout-color2: #454545;\n",
       "                    background-color: #383838;\n",
       "                }\n",
       "\n",
       "                .geemap-dark .jupyter-button {\n",
       "                    --jp-layout-color3: #383838;\n",
       "                }\n",
       "\n",
       "                .geemap-colab {\n",
       "                    background-color: var(--colab-primary-surface-color, white);\n",
       "                }\n",
       "\n",
       "                .geemap-colab .jupyter-button {\n",
       "                    --jp-layout-color3: var(--colab-primary-surface-color, white);\n",
       "                }\n",
       "            </style>\n",
       "            "
      ],
      "text/plain": [
       "<IPython.core.display.HTML object>"
      ]
     },
     "metadata": {},
     "output_type": "display_data"
    },
    {
     "name": "stdout",
     "output_type": "stream",
     "text": [
      "Length of dates: 38308\n",
      "Length of bairros: 38308\n",
      "Length of temperature_2m_min values: 9577\n",
      "Length of temperature_2m_max values: 9577\n",
      "Length of total_precipitation_sum values: 9577\n",
      "Length of temperature_2m values: 9577\n"
     ]
    },
    {
     "name": "stderr",
     "output_type": "stream",
     "text": [
      "/var/folders/6j/k5rxchz56f713l2jzjpc5yrh0000gn/T/ipykernel_28390/2285279324.py:16: DeprecationWarning: datetime.datetime.utcfromtimestamp() is deprecated and scheduled for removal in a future version. Use timezone-aware objects to represent datetimes in UTC: datetime.datetime.fromtimestamp(timestamp, datetime.UTC).\n",
      "  dates.append(datetime.utcfromtimestamp(date / 1000).strftime('%Y-%m-%d'))\n"
     ]
    }
   ],
   "source": [
    "# Apply the extraction function to each polygon in the shapefile\n",
    "results = fc.map(extract_data).flatten()\n",
    "\n",
    "# Get the results as a list\n",
    "results_list = results.getInfo()\n",
    "\n",
    "# Parse the results\n",
    "for result in results_list['features']:\n",
    "    properties = result['properties']\n",
    "    bairro = properties['bairro']\n",
    "    variable = properties['variable']\n",
    "    dates_ = properties['dates']\n",
    "    values_ = properties['values']\n",
    "    \n",
    "    for date, value in zip(dates_, values_):\n",
    "        dates.append(datetime.utcfromtimestamp(date / 1000).strftime('%Y-%m-%d'))\n",
    "        bairros.append(bairro)\n",
    "        variable_values[variable].append(value)\n",
    "\n",
    "# Check the lengths of the lists\n",
    "print(f\"Length of dates: {len(dates)}\")\n",
    "print(f\"Length of bairros: {len(bairros)}\")\n",
    "for variable in variables:\n",
    "    print(f\"Length of {variable} values: {len(variable_values[variable])}\")\n",
    "    "
   ]
  },
  {
   "cell_type": "code",
   "execution_count": 778,
   "id": "184c5d36-a944-4965-9f51-df3903135484",
   "metadata": {},
   "outputs": [
    {
     "data": {
      "text/html": [
       "\n",
       "            <style>\n",
       "                .geemap-dark {\n",
       "                    --jp-widgets-color: white;\n",
       "                    --jp-widgets-label-color: white;\n",
       "                    --jp-ui-font-color1: white;\n",
       "                    --jp-layout-color2: #454545;\n",
       "                    background-color: #383838;\n",
       "                }\n",
       "\n",
       "                .geemap-dark .jupyter-button {\n",
       "                    --jp-layout-color3: #383838;\n",
       "                }\n",
       "\n",
       "                .geemap-colab {\n",
       "                    background-color: var(--colab-primary-surface-color, white);\n",
       "                }\n",
       "\n",
       "                .geemap-colab .jupyter-button {\n",
       "                    --jp-layout-color3: var(--colab-primary-surface-color, white);\n",
       "                }\n",
       "            </style>\n",
       "            "
      ],
      "text/plain": [
       "<IPython.core.display.HTML object>"
      ]
     },
     "metadata": {},
     "output_type": "display_data"
    },
    {
     "name": "stdout",
     "output_type": "stream",
     "text": [
      "Length of dates: 38308\n",
      "Length of bairros: 38308\n",
      "Length of temperature_2m_min values: 9577\n",
      "Length of temperature_2m_max values: 9577\n",
      "Length of total_precipitation_sum values: 9577\n",
      "Length of temperature_2m values: 9577\n"
     ]
    }
   ],
   "source": [
    "# Initialize lists to store extracted values\n",
    "dates = []\n",
    "bairros = []  # Ensure this is initialized as a list\n",
    "variable_values = {variable: [] for variable in variables}\n",
    "\n",
    "# Loop through results and parse them correctly\n",
    "for result in results_list['features']:\n",
    "    properties = result['properties']\n",
    "    bairro = properties['bairro']  # Assign the string `bairro`\n",
    "    variable = properties['variable']\n",
    "    dates_ = properties['dates']\n",
    "    values_ = properties['values']\n",
    "\n",
    "    for date, value in zip(dates_, values_):\n",
    "        dates.append(datetime.fromtimestamp(date / 1000, tz=timezone.utc).strftime('%Y-%m-%d'))\n",
    "        bairros.append(bairro)  # Append `bairro` string to `bairros` list\n",
    "        variable_values[variable].append(value)\n",
    "\n",
    "# Check the lengths of the lists\n",
    "print(f\"Length of dates: {len(dates)}\")\n",
    "print(f\"Length of bairros: {len(bairros)}\")  # Corrected print statement\n",
    "for variable in variables:\n",
    "    print(f\"Length of {variable} values: {len(variable_values[variable])}\")"
   ]
  },
  {
   "cell_type": "code",
   "execution_count": 779,
   "id": "e5bc181d-92bc-4c5d-bb66-281da1513f1f",
   "metadata": {},
   "outputs": [
    {
     "data": {
      "text/html": [
       "\n",
       "            <style>\n",
       "                .geemap-dark {\n",
       "                    --jp-widgets-color: white;\n",
       "                    --jp-widgets-label-color: white;\n",
       "                    --jp-ui-font-color1: white;\n",
       "                    --jp-layout-color2: #454545;\n",
       "                    background-color: #383838;\n",
       "                }\n",
       "\n",
       "                .geemap-dark .jupyter-button {\n",
       "                    --jp-layout-color3: #383838;\n",
       "                }\n",
       "\n",
       "                .geemap-colab {\n",
       "                    background-color: var(--colab-primary-surface-color, white);\n",
       "                }\n",
       "\n",
       "                .geemap-colab .jupyter-button {\n",
       "                    --jp-layout-color3: var(--colab-primary-surface-color, white);\n",
       "                }\n",
       "            </style>\n",
       "            "
      ],
      "text/plain": [
       "<IPython.core.display.HTML object>"
      ]
     },
     "metadata": {},
     "output_type": "display_data"
    },
    {
     "name": "stdout",
     "output_type": "stream",
     "text": [
      "            date  bairro  temperature_2m_min  temperature_2m_max  \\\n",
      "0     2024-10-29       1            0.000000            0.000000   \n",
      "1     2024-10-30       1            0.000000            0.000000   \n",
      "2     2024-10-31       1            0.000000            0.000000   \n",
      "3     2024-11-01       1            0.000000            0.000000   \n",
      "4     2024-11-02       1            0.000000            0.000000   \n",
      "...          ...     ...                 ...                 ...   \n",
      "9572  2024-12-24     150           52.108918           52.743655   \n",
      "9573  2024-12-25     150           52.089892           53.709785   \n",
      "9574  2024-12-26     150           52.769047           53.452670   \n",
      "9575  2024-12-27     150           52.512207           52.973246   \n",
      "9576  2024-12-28     150           52.373624           53.373114   \n",
      "\n",
      "      total_precipitation_sum  temperature_2m  \n",
      "0                    0.000000        0.000000  \n",
      "1                    0.000000        0.000000  \n",
      "2                    0.000000        0.000000  \n",
      "3                    0.000000        0.000000  \n",
      "4                    0.000000        0.000000  \n",
      "...                       ...             ...  \n",
      "9572                 0.000665       52.362855  \n",
      "9573                 0.000053       52.830487  \n",
      "9574                 0.000903       52.987900  \n",
      "9575                 0.008544       52.739743  \n",
      "9576                 0.000849       52.783440  \n",
      "\n",
      "[9577 rows x 6 columns]\n"
     ]
    }
   ],
   "source": [
    "# Create a DataFrame for dates and bairros\n",
    "df_dates_bairros = pd.DataFrame({'date': dates, 'bairro': bairros})\n",
    "\n",
    "# Get unique combinations of dates and bairros\n",
    "df_unique_dates_bairros = df_dates_bairros.drop_duplicates().reset_index(drop=True)\n",
    "\n",
    "# Start with this DataFrame\n",
    "dfs = [df_unique_dates_bairros]\n",
    "\n",
    "# Create DataFrames for each variable's values\n",
    "for variable, values in variable_values.items():\n",
    "    df_variable = pd.DataFrame({variable: values})\n",
    "    dfs.append(df_variable)  # Ensure consistent indentation\n",
    "\n",
    "# Concatenate all DataFrames along the columns (axis=1)\n",
    "df_combined = pd.concat(dfs, axis=1)\n",
    "\n",
    "# Check the final combined DataFrame\n",
    "print(df_combined)"
   ]
  },
  {
   "cell_type": "code",
   "execution_count": 780,
   "id": "2b39ce8e",
   "metadata": {},
   "outputs": [
    {
     "data": {
      "text/html": [
       "\n",
       "            <style>\n",
       "                .geemap-dark {\n",
       "                    --jp-widgets-color: white;\n",
       "                    --jp-widgets-label-color: white;\n",
       "                    --jp-ui-font-color1: white;\n",
       "                    --jp-layout-color2: #454545;\n",
       "                    background-color: #383838;\n",
       "                }\n",
       "\n",
       "                .geemap-dark .jupyter-button {\n",
       "                    --jp-layout-color3: #383838;\n",
       "                }\n",
       "\n",
       "                .geemap-colab {\n",
       "                    background-color: var(--colab-primary-surface-color, white);\n",
       "                }\n",
       "\n",
       "                .geemap-colab .jupyter-button {\n",
       "                    --jp-layout-color3: var(--colab-primary-surface-color, white);\n",
       "                }\n",
       "            </style>\n",
       "            "
      ],
      "text/plain": [
       "<IPython.core.display.HTML object>"
      ]
     },
     "metadata": {},
     "output_type": "display_data"
    }
   ],
   "source": [
    "# Create a DataFrame to store the results\n",
    "df = pd.DataFrame(df_combined)"
   ]
  },
  {
   "cell_type": "code",
   "execution_count": 781,
   "id": "3457035d",
   "metadata": {},
   "outputs": [
    {
     "data": {
      "text/html": [
       "\n",
       "            <style>\n",
       "                .geemap-dark {\n",
       "                    --jp-widgets-color: white;\n",
       "                    --jp-widgets-label-color: white;\n",
       "                    --jp-ui-font-color1: white;\n",
       "                    --jp-layout-color2: #454545;\n",
       "                    background-color: #383838;\n",
       "                }\n",
       "\n",
       "                .geemap-dark .jupyter-button {\n",
       "                    --jp-layout-color3: #383838;\n",
       "                }\n",
       "\n",
       "                .geemap-colab {\n",
       "                    background-color: var(--colab-primary-surface-color, white);\n",
       "                }\n",
       "\n",
       "                .geemap-colab .jupyter-button {\n",
       "                    --jp-layout-color3: var(--colab-primary-surface-color, white);\n",
       "                }\n",
       "            </style>\n",
       "            "
      ],
      "text/plain": [
       "<IPython.core.display.HTML object>"
      ]
     },
     "metadata": {},
     "output_type": "display_data"
    },
    {
     "data": {
      "text/html": [
       "<div>\n",
       "<style scoped>\n",
       "    .dataframe tbody tr th:only-of-type {\n",
       "        vertical-align: middle;\n",
       "    }\n",
       "\n",
       "    .dataframe tbody tr th {\n",
       "        vertical-align: top;\n",
       "    }\n",
       "\n",
       "    .dataframe thead th {\n",
       "        text-align: right;\n",
       "    }\n",
       "</style>\n",
       "<table border=\"1\" class=\"dataframe\">\n",
       "  <thead>\n",
       "    <tr style=\"text-align: right;\">\n",
       "      <th></th>\n",
       "      <th>date</th>\n",
       "      <th>bairro</th>\n",
       "      <th>temperature_2m_min</th>\n",
       "      <th>temperature_2m_max</th>\n",
       "      <th>total_precipitation_sum</th>\n",
       "      <th>temperature_2m</th>\n",
       "    </tr>\n",
       "  </thead>\n",
       "  <tbody>\n",
       "    <tr>\n",
       "      <th>0</th>\n",
       "      <td>2024-10-29</td>\n",
       "      <td>1</td>\n",
       "      <td>0.000000</td>\n",
       "      <td>0.000000</td>\n",
       "      <td>0.000000</td>\n",
       "      <td>0.000000</td>\n",
       "    </tr>\n",
       "    <tr>\n",
       "      <th>1</th>\n",
       "      <td>2024-10-30</td>\n",
       "      <td>1</td>\n",
       "      <td>0.000000</td>\n",
       "      <td>0.000000</td>\n",
       "      <td>0.000000</td>\n",
       "      <td>0.000000</td>\n",
       "    </tr>\n",
       "    <tr>\n",
       "      <th>2</th>\n",
       "      <td>2024-10-31</td>\n",
       "      <td>1</td>\n",
       "      <td>0.000000</td>\n",
       "      <td>0.000000</td>\n",
       "      <td>0.000000</td>\n",
       "      <td>0.000000</td>\n",
       "    </tr>\n",
       "    <tr>\n",
       "      <th>3</th>\n",
       "      <td>2024-11-01</td>\n",
       "      <td>1</td>\n",
       "      <td>0.000000</td>\n",
       "      <td>0.000000</td>\n",
       "      <td>0.000000</td>\n",
       "      <td>0.000000</td>\n",
       "    </tr>\n",
       "    <tr>\n",
       "      <th>4</th>\n",
       "      <td>2024-11-02</td>\n",
       "      <td>1</td>\n",
       "      <td>0.000000</td>\n",
       "      <td>0.000000</td>\n",
       "      <td>0.000000</td>\n",
       "      <td>0.000000</td>\n",
       "    </tr>\n",
       "    <tr>\n",
       "      <th>...</th>\n",
       "      <td>...</td>\n",
       "      <td>...</td>\n",
       "      <td>...</td>\n",
       "      <td>...</td>\n",
       "      <td>...</td>\n",
       "      <td>...</td>\n",
       "    </tr>\n",
       "    <tr>\n",
       "      <th>9572</th>\n",
       "      <td>2024-12-24</td>\n",
       "      <td>150</td>\n",
       "      <td>52.108918</td>\n",
       "      <td>52.743655</td>\n",
       "      <td>0.000665</td>\n",
       "      <td>52.362855</td>\n",
       "    </tr>\n",
       "    <tr>\n",
       "      <th>9573</th>\n",
       "      <td>2024-12-25</td>\n",
       "      <td>150</td>\n",
       "      <td>52.089892</td>\n",
       "      <td>53.709785</td>\n",
       "      <td>0.000053</td>\n",
       "      <td>52.830487</td>\n",
       "    </tr>\n",
       "    <tr>\n",
       "      <th>9574</th>\n",
       "      <td>2024-12-26</td>\n",
       "      <td>150</td>\n",
       "      <td>52.769047</td>\n",
       "      <td>53.452670</td>\n",
       "      <td>0.000903</td>\n",
       "      <td>52.987900</td>\n",
       "    </tr>\n",
       "    <tr>\n",
       "      <th>9575</th>\n",
       "      <td>2024-12-27</td>\n",
       "      <td>150</td>\n",
       "      <td>52.512207</td>\n",
       "      <td>52.973246</td>\n",
       "      <td>0.008544</td>\n",
       "      <td>52.739743</td>\n",
       "    </tr>\n",
       "    <tr>\n",
       "      <th>9576</th>\n",
       "      <td>2024-12-28</td>\n",
       "      <td>150</td>\n",
       "      <td>52.373624</td>\n",
       "      <td>53.373114</td>\n",
       "      <td>0.000849</td>\n",
       "      <td>52.783440</td>\n",
       "    </tr>\n",
       "  </tbody>\n",
       "</table>\n",
       "<p>9577 rows × 6 columns</p>\n",
       "</div>"
      ],
      "text/plain": [
       "            date  bairro  temperature_2m_min  temperature_2m_max  \\\n",
       "0     2024-10-29       1            0.000000            0.000000   \n",
       "1     2024-10-30       1            0.000000            0.000000   \n",
       "2     2024-10-31       1            0.000000            0.000000   \n",
       "3     2024-11-01       1            0.000000            0.000000   \n",
       "4     2024-11-02       1            0.000000            0.000000   \n",
       "...          ...     ...                 ...                 ...   \n",
       "9572  2024-12-24     150           52.108918           52.743655   \n",
       "9573  2024-12-25     150           52.089892           53.709785   \n",
       "9574  2024-12-26     150           52.769047           53.452670   \n",
       "9575  2024-12-27     150           52.512207           52.973246   \n",
       "9576  2024-12-28     150           52.373624           53.373114   \n",
       "\n",
       "      total_precipitation_sum  temperature_2m  \n",
       "0                    0.000000        0.000000  \n",
       "1                    0.000000        0.000000  \n",
       "2                    0.000000        0.000000  \n",
       "3                    0.000000        0.000000  \n",
       "4                    0.000000        0.000000  \n",
       "...                       ...             ...  \n",
       "9572                 0.000665       52.362855  \n",
       "9573                 0.000053       52.830487  \n",
       "9574                 0.000903       52.987900  \n",
       "9575                 0.008544       52.739743  \n",
       "9576                 0.000849       52.783440  \n",
       "\n",
       "[9577 rows x 6 columns]"
      ]
     },
     "execution_count": 781,
     "metadata": {},
     "output_type": "execute_result"
    }
   ],
   "source": [
    "df"
   ]
  },
  {
   "cell_type": "code",
   "execution_count": 782,
   "id": "b80b971d",
   "metadata": {},
   "outputs": [
    {
     "data": {
      "text/html": [
       "\n",
       "            <style>\n",
       "                .geemap-dark {\n",
       "                    --jp-widgets-color: white;\n",
       "                    --jp-widgets-label-color: white;\n",
       "                    --jp-ui-font-color1: white;\n",
       "                    --jp-layout-color2: #454545;\n",
       "                    background-color: #383838;\n",
       "                }\n",
       "\n",
       "                .geemap-dark .jupyter-button {\n",
       "                    --jp-layout-color3: #383838;\n",
       "                }\n",
       "\n",
       "                .geemap-colab {\n",
       "                    background-color: var(--colab-primary-surface-color, white);\n",
       "                }\n",
       "\n",
       "                .geemap-colab .jupyter-button {\n",
       "                    --jp-layout-color3: var(--colab-primary-surface-color, white);\n",
       "                }\n",
       "            </style>\n",
       "            "
      ],
      "text/plain": [
       "<IPython.core.display.HTML object>"
      ]
     },
     "metadata": {},
     "output_type": "display_data"
    }
   ],
   "source": [
    "df.to_csv('RJ_clima_10_2024_to_12_2024.csv', index=False)"
   ]
  },
  {
   "cell_type": "code",
   "execution_count": null,
   "id": "79fabe5b-f24d-4cda-a4de-9492cbf31f56",
   "metadata": {},
   "outputs": [],
   "source": []
  }
 ],
 "metadata": {
  "kernelspec": {
   "display_name": "Python 3 (ipykernel)",
   "language": "python",
   "name": "python3"
  },
  "language_info": {
   "codemirror_mode": {
    "name": "ipython",
    "version": 3
   },
   "file_extension": ".py",
   "mimetype": "text/x-python",
   "name": "python",
   "nbconvert_exporter": "python",
   "pygments_lexer": "ipython3",
   "version": "3.13.2"
  }
 },
 "nbformat": 4,
 "nbformat_minor": 5
}
